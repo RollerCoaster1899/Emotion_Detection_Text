{
 "cells": [
  {
   "cell_type": "code",
   "execution_count": 1,
   "id": "3824ca57-4450-4712-81f4-09730c5dc898",
   "metadata": {
    "tags": []
   },
   "outputs": [
    {
     "name": "stdout",
     "output_type": "stream",
     "text": [
      "Requirement already satisfied: nltk in c:\\users\\raula\\anaconda3\\lib\\site-packages (3.8.1)\n",
      "Requirement already satisfied: joblib in c:\\users\\raula\\anaconda3\\lib\\site-packages (from nltk) (1.3.1)\n",
      "Requirement already satisfied: click in c:\\users\\raula\\anaconda3\\lib\\site-packages (from nltk) (8.1.5)\n",
      "Requirement already satisfied: tqdm in c:\\users\\raula\\anaconda3\\lib\\site-packages (from nltk) (4.65.0)\n",
      "Requirement already satisfied: regex>=2021.8.3 in c:\\users\\raula\\anaconda3\\lib\\site-packages (from nltk) (2023.6.3)\n",
      "Requirement already satisfied: colorama in c:\\users\\raula\\anaconda3\\lib\\site-packages (from click->nltk) (0.4.6)\n"
     ]
    }
   ],
   "source": [
    "!pip install nltk"
   ]
  },
  {
   "cell_type": "code",
   "execution_count": 2,
   "id": "57e787ae-0a89-4b21-93a5-b64b7d56ba32",
   "metadata": {
    "tags": []
   },
   "outputs": [
    {
     "name": "stderr",
     "output_type": "stream",
     "text": [
      "[nltk_data] Downloading package vader_lexicon to\n",
      "[nltk_data]     C:\\Users\\raula\\AppData\\Roaming\\nltk_data...\n",
      "[nltk_data]   Package vader_lexicon is already up-to-date!\n",
      "[nltk_data] Downloading package punkt to\n",
      "[nltk_data]     C:\\Users\\raula\\AppData\\Roaming\\nltk_data...\n",
      "[nltk_data]   Package punkt is already up-to-date!\n"
     ]
    }
   ],
   "source": [
    "import nltk\n",
    "nltk.download('vader_lexicon')\n",
    "nltk.download('punkt')\n",
    "\n",
    "import matplotlib.pyplot as plt\n",
    "from nltk.sentiment import SentimentIntensityAnalyzer\n",
    "from nltk.tokenize import sent_tokenize"
   ]
  },
  {
   "cell_type": "code",
   "execution_count": 3,
   "id": "fb1bbd7c-88b0-425e-9231-1105ffef9f41",
   "metadata": {
    "tags": []
   },
   "outputs": [],
   "source": [
    "def detect_emotion(text, return_probabilities=False, check_bad_words=False):\n",
    "    if text is None or text.strip() == \"\":\n",
    "        return None\n",
    "    \n",
    "    analyzer = SentimentIntensityAnalyzer()\n",
    "    sentences = sent_tokenize(text)\n",
    "    \n",
    "    emotions = {\n",
    "        'Happy': 0,\n",
    "        'Sad': 0,\n",
    "        'Neutral': 0\n",
    "    }\n",
    "    \n",
    "    bad_words = ['bad', 'terrible', 'awful']  # Add more bad words as needed\n",
    "    \n",
    "    for sentence in sentences:\n",
    "        sentiment_scores = analyzer.polarity_scores(sentence)\n",
    "        compound_score = sentiment_scores['compound']\n",
    "        \n",
    "        if compound_score >= 0.1:\n",
    "            emotions['Happy'] += 1\n",
    "        elif compound_score <= -0.1:\n",
    "            emotions['Sad'] += 1\n",
    "        else:\n",
    "            emotions['Neutral'] += 1\n",
    "        \n",
    "        if check_bad_words:\n",
    "            for word in bad_words:\n",
    "                if word in sentence.lower():\n",
    "                    print(\"Warning: Bad word detected!\")\n",
    "    \n",
    "    total_sentences = len(sentences)\n",
    "    \n",
    "    if return_probabilities:\n",
    "        probabilities = {emotion: count / total_sentences for emotion, count in emotions.items()}\n",
    "        return probabilities\n",
    "    \n",
    "    dominant_emotion = max(emotions, key=emotions.get)\n",
    "    return dominant_emotion\n",
    "\n",
    "def plot_emotion_probabilities(emotion_probabilities):\n",
    "    emotions = list(emotion_probabilities.keys())\n",
    "    probabilities = list(emotion_probabilities.values())\n",
    "\n",
    "    plt.bar(emotions, probabilities)\n",
    "    plt.xlabel('Emotion')\n",
    "    plt.ylabel('Probability')\n",
    "    plt.title('Emotion Probabilities')\n",
    "    plt.show()"
   ]
  },
  {
   "cell_type": "code",
   "execution_count": 4,
   "id": "4bf09255-6832-4867-a8d3-be1d4607a980",
   "metadata": {
    "tags": []
   },
   "outputs": [
    {
     "name": "stdout",
     "output_type": "stream",
     "text": [
      "Warning: Bad word detected!\n",
      "Emotion Probabilities:\n",
      "Happy: 0.3333333333333333\n",
      "Sad: 0.6666666666666666\n",
      "Neutral: 0.0\n"
     ]
    },
    {
     "data": {
      "image/png": "[encoded data removed]",
      "text/plain": [
       "<Figure size 640x480 with 1 Axes>"
      ]
     },
     "metadata": {},
     "output_type": "display_data"
    }
   ],
   "source": [
    "# Example usage\n",
    "text_data = \"I'm feeling excited and happy! This day couldn't get any better. However, the movie was terrible.\"\n",
    "emotion_probabilities = detect_emotion(text_data, return_probabilities=True, check_bad_words=True)\n",
    "print(\"Emotion Probabilities:\")\n",
    "for emotion, probability in emotion_probabilities.items():\n",
    "    print(f\"{emotion}: {probability}\")\n",
    "\n",
    "plot_emotion_probabilities(emotion_probabilities)"
   ]
  }
 ],
 "metadata": {
  "kernelspec": {
   "display_name": "Python 3 (ipykernel)",
   "language": "python",
   "name": "python3"
  },
  "language_info": {
   "codemirror_mode": {
    "name": "ipython",
    "version": 3
   },
   "file_extension": ".py",
   "mimetype": "text/x-python",
   "name": "python",
   "nbconvert_exporter": "python",
   "pygments_lexer": "ipython3",
   "version": "3.10.9"
  }
 },
 "nbformat": 4,
 "nbformat_minor": 5
}
